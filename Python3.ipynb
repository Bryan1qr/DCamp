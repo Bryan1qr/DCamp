{
 "cells": [
  {
   "cell_type": "markdown",
   "id": "7507af44-00f5-4201-bdcc-ee55e7dea3e0",
   "metadata": {},
   "source": [
    "---\n",
    "title: Data manipulation with pandas\n",
    "author: Bryan Quispe\n",
    "date: last-modified\n",
    "lang: es\n",
    "geometry:\n",
    "  - top=3mm\n",
    "  - left=2mm\n",
    "  - right=3mm\n",
    "  - bottom=3mm\n",
    "format:\n",
    "  pdf:\n",
    "    papersize: a4\n",
    "---"
   ]
  },
  {
   "cell_type": "markdown",
   "id": "2460c198-9dfe-4337-bcd8-a9ba684852de",
   "metadata": {},
   "source": [
    "# Introducing Dataframes\n",
    "Pandas is buit with matplolib and numpy\n",
    "* method .head()\n",
    "* attribute .shape shows the number of rows and columns of a dataframe.\n",
    "* method .describe() provides statistics properties\n",
    "* attribute .value provides an array that contains all data. In a two dimentional numpy array (one array per each row.\n",
    "* attribute .columns contains the column names of the dataframe.\n",
    "* attribute .index contains row names."
   ]
  },
  {
   "cell_type": "code",
   "execution_count": 2,
   "id": "96ca5aab-6153-4298-af46-a0c26b4044a9",
   "metadata": {},
   "outputs": [
    {
     "data": {
      "text/html": [
       "<div>\n",
       "<style scoped>\n",
       "    .dataframe tbody tr th:only-of-type {\n",
       "        vertical-align: middle;\n",
       "    }\n",
       "\n",
       "    .dataframe tbody tr th {\n",
       "        vertical-align: top;\n",
       "    }\n",
       "\n",
       "    .dataframe thead th {\n",
       "        text-align: right;\n",
       "    }\n",
       "</style>\n",
       "<table border=\"1\" class=\"dataframe\">\n",
       "  <thead>\n",
       "    <tr style=\"text-align: right;\">\n",
       "      <th></th>\n",
       "      <th>region</th>\n",
       "      <th>state</th>\n",
       "      <th>individuals</th>\n",
       "      <th>family_members</th>\n",
       "      <th>state_pop</th>\n",
       "    </tr>\n",
       "  </thead>\n",
       "  <tbody>\n",
       "    <tr>\n",
       "      <th>0</th>\n",
       "      <td>East South Central</td>\n",
       "      <td>Alabama</td>\n",
       "      <td>2570.0</td>\n",
       "      <td>864.0</td>\n",
       "      <td>4887681</td>\n",
       "    </tr>\n",
       "    <tr>\n",
       "      <th>1</th>\n",
       "      <td>Pacific</td>\n",
       "      <td>Alaska</td>\n",
       "      <td>1434.0</td>\n",
       "      <td>582.0</td>\n",
       "      <td>735139</td>\n",
       "    </tr>\n",
       "    <tr>\n",
       "      <th>2</th>\n",
       "      <td>Mountain</td>\n",
       "      <td>Arizona</td>\n",
       "      <td>7259.0</td>\n",
       "      <td>2606.0</td>\n",
       "      <td>7158024</td>\n",
       "    </tr>\n",
       "  </tbody>\n",
       "</table>\n",
       "</div>"
      ],
      "text/plain": [
       "               region    state  individuals  family_members  state_pop\n",
       "0  East South Central  Alabama       2570.0           864.0    4887681\n",
       "1             Pacific   Alaska       1434.0           582.0     735139\n",
       "2            Mountain  Arizona       7259.0          2606.0    7158024"
      ]
     },
     "execution_count": 2,
     "metadata": {},
     "output_type": "execute_result"
    }
   ],
   "source": [
    "import pandas as pd\n",
    "import numpy as np\n",
    "\n",
    "homeless = pd.read_csv(\"homelessness.csv\", index_col=0)\n",
    "homeless.head(3)"
   ]
  },
  {
   "cell_type": "code",
   "execution_count": 54,
   "id": "ead1f0d5-df90-497d-99c6-14784001e6dd",
   "metadata": {},
   "outputs": [
    {
     "name": "stdout",
     "output_type": "stream",
     "text": [
      "\n",
      "############# Info attribute ###########\n",
      "<class 'pandas.core.frame.DataFrame'>\n",
      "Index: 51 entries, 0 to 50\n",
      "Data columns (total 5 columns):\n",
      " #   Column          Non-Null Count  Dtype  \n",
      "---  ------          --------------  -----  \n",
      " 0   region          51 non-null     object \n",
      " 1   state           51 non-null     object \n",
      " 2   individuals     51 non-null     float64\n",
      " 3   family_members  51 non-null     float64\n",
      " 4   state_pop       51 non-null     int64  \n",
      "dtypes: float64(2), int64(1), object(2)\n",
      "memory usage: 2.4+ KB\n",
      "None\n",
      "\n",
      "############# shape attribute ###########\n",
      "(51, 5)\n",
      "\n",
      "############# describe method ###########\n",
      "         individuals  family_members     state_pop\n",
      "count      51.000000       51.000000  5.100000e+01\n",
      "mean     7225.784314     3504.882353  6.405637e+06\n",
      "std     15991.025083     7805.411811  7.327258e+06\n",
      "min       434.000000       75.000000  5.776010e+05\n",
      "25%      1446.500000      592.000000  1.777414e+06\n",
      "50%      3082.000000     1482.000000  4.461153e+06\n",
      "75%      6781.500000     3196.000000  7.340946e+06\n",
      "max    109008.000000    52070.000000  3.946159e+07\n",
      "\n",
      "############# values attribute ###########\n",
      "[['East South Central' 'Alabama' 2570.0 864.0 4887681]\n",
      " ['Pacific' 'Alaska' 1434.0 582.0 735139]\n",
      " ['Mountain' 'Arizona' 7259.0 2606.0 7158024]\n",
      " ['West South Central' 'Arkansas' 2280.0 432.0 3009733]\n",
      " ['Pacific' 'California' 109008.0 20964.0 39461588]]\n",
      "\n",
      "############# columns attribute ###########\n",
      "Index(['region', 'state', 'individuals', 'family_members', 'state_pop'], dtype='object')\n",
      "\n",
      "############# index attribute ###########\n",
      "Index([ 0,  1,  2,  3,  4,  5,  6,  7,  8,  9, 10, 11, 12, 13, 14, 15, 16, 17,\n",
      "       18, 19, 20, 21, 22, 23, 24, 25, 26, 27, 28, 29, 30, 31, 32, 33, 34, 35,\n",
      "       36, 37, 38, 39, 40, 41, 42, 43, 44, 45, 46, 47, 48, 49, 50],\n",
      "      dtype='int64')\n"
     ]
    }
   ],
   "source": [
    "print(\"\\n############# Info attribute ###########\")\n",
    "print(homeless.info())\n",
    "print(\"\\n############# shape attribute ###########\")\n",
    "print(homeless.shape)\n",
    "print(\"\\n############# describe method ###########\")\n",
    "print(homeless.describe())\n",
    "print(\"\\n############# values attribute ###########\")\n",
    "print(homeless.values[0:5])\n",
    "print(\"\\n############# columns attribute ###########\")\n",
    "print(homeless.columns)\n",
    "print(\"\\n############# index attribute ###########\")\n",
    "print(homeless.index)"
   ]
  },
  {
   "cell_type": "markdown",
   "id": "27287694-5740-4e90-8316-3b357e20c4ff",
   "metadata": {},
   "source": [
    "# Sorting and subsetting\n",
    "## Sorting\n",
    "We can sorting a datafrom using a column:"
   ]
  },
  {
   "cell_type": "code",
   "execution_count": 22,
   "id": "e04c3599-c53e-4cb0-bb45-296444a8cb76",
   "metadata": {},
   "outputs": [
    {
     "name": "stdout",
     "output_type": "stream",
     "text": [
      "sorting values\n",
      "                region         state  individuals  family_members  state_pop\n",
      "50            Mountain       Wyoming        434.0           205.0     577601\n",
      "34  West North Central  North Dakota        467.0            75.0     758080\n",
      "7       South Atlantic      Delaware        708.0           374.0     965479\n",
      "39         New England  Rhode Island        747.0           354.0    1058287\n",
      "45         New England       Vermont        780.0           511.0     624358\n"
     ]
    }
   ],
   "source": [
    "print(\"sorting values\")\n",
    "print(homeless.sort_values(\"individuals\").head())"
   ]
  },
  {
   "cell_type": "markdown",
   "id": "b66d0ea4-586c-4cc6-9364-693ae5564a64",
   "metadata": {},
   "source": [
    "We can also sort_values with a list:"
   ]
  },
  {
   "cell_type": "code",
   "execution_count": 23,
   "id": "beb42bbc-ee76-4d76-9a4b-eb15694ba85a",
   "metadata": {},
   "outputs": [
    {
     "name": "stdout",
     "output_type": "stream",
     "text": [
      "                region         state  individuals  family_members  state_pop\n",
      "50            Mountain       Wyoming        434.0           205.0     577601\n",
      "34  West North Central  North Dakota        467.0            75.0     758080\n",
      "7       South Atlantic      Delaware        708.0           374.0     965479\n",
      "39         New England  Rhode Island        747.0           354.0    1058287\n",
      "45         New England       Vermont        780.0           511.0     624358\n"
     ]
    }
   ],
   "source": [
    "print(homeless.sort_values([\"individuals\", \"family_members\"]).head())"
   ]
  },
  {
   "cell_type": "markdown",
   "id": "5e153e55-23ff-4619-93bf-dba19079d16a",
   "metadata": {},
   "source": [
    "To change the direction of this sorting we use the argument asciending:"
   ]
  },
  {
   "cell_type": "code",
   "execution_count": 27,
   "id": "f0c27152-52cf-4a91-849b-042eb0634383",
   "metadata": {},
   "outputs": [
    {
     "name": "stdout",
     "output_type": "stream",
     "text": [
      "                region         state  individuals  family_members  state_pop\n",
      "50            Mountain       Wyoming        434.0           205.0     577601\n",
      "34  West North Central  North Dakota        467.0            75.0     758080\n",
      "7       South Atlantic      Delaware        708.0           374.0     965479\n",
      "39         New England  Rhode Island        747.0           354.0    1058287\n",
      "45         New England       Vermont        780.0           511.0     624358\n"
     ]
    }
   ],
   "source": [
    "print(homeless.sort_values([\"individuals\", \"family_members\"],\n",
    "                           ascending = [True, False]).head())"
   ]
  },
  {
   "cell_type": "markdown",
   "id": "5d2835ee-60da-46f0-b3bb-912372c680ed",
   "metadata": {},
   "source": [
    "## Subsetting columns\n",
    "Using a simple square brackets we can subset a dataframe by columns like a pandas object."
   ]
  },
  {
   "cell_type": "code",
   "execution_count": 29,
   "id": "dd7b5acd-d0f7-4445-b609-2687a9dc7425",
   "metadata": {},
   "outputs": [
    {
     "data": {
      "text/plain": [
       "0    East South Central\n",
       "1               Pacific\n",
       "2              Mountain\n",
       "3    West South Central\n",
       "4               Pacific\n",
       "Name: region, dtype: object"
      ]
     },
     "execution_count": 29,
     "metadata": {},
     "output_type": "execute_result"
    }
   ],
   "source": [
    "homeless[\"region\"].head()"
   ]
  },
  {
   "cell_type": "markdown",
   "id": "8cc9a210-7cb3-4f08-9a30-1ebfd7e63c6c",
   "metadata": {},
   "source": [
    "sing a doble square brackets we can subset a dataframe by columns like a dataframe."
   ]
  },
  {
   "cell_type": "code",
   "execution_count": 32,
   "id": "8b180615-fd96-4846-ba9e-7978cf0df9a2",
   "metadata": {},
   "outputs": [
    {
     "name": "stdout",
     "output_type": "stream",
     "text": [
      "               region  individuals\n",
      "0  East South Central       2570.0\n",
      "1             Pacific       1434.0\n",
      "2            Mountain       7259.0\n",
      "3  West South Central       2280.0\n",
      "4             Pacific     109008.0\n"
     ]
    }
   ],
   "source": [
    "print(homeless[[\"region\", \"individuals\"]].head())"
   ]
  },
  {
   "cell_type": "markdown",
   "id": "58bde3ea-208c-49ae-9ae4-9367eb23cb24",
   "metadata": {},
   "source": [
    "## Subsetting rows\n",
    "That is possible creating logical conditions."
   ]
  },
  {
   "cell_type": "code",
   "execution_count": 49,
   "id": "6af6ac66-8f48-4aa7-8237-1f0b582c9108",
   "metadata": {},
   "outputs": [
    {
     "name": "stdout",
     "output_type": "stream",
     "text": [
      "                region       state  individuals  family_members  state_pop\n",
      "37             Pacific      Oregon      11139.0          3337.0    4181886\n",
      "47             Pacific  Washington      16424.0          5880.0    7523869\n",
      "43  West South Central       Texas      19199.0          6111.0   28628666\n",
      "9       South Atlantic     Florida      21443.0          9587.0   21244317\n",
      "32        Mid-Atlantic    New York      39827.0         52070.0   19530351\n",
      "4              Pacific  California     109008.0         20964.0   39461588\n"
     ]
    }
   ],
   "source": [
    "print(homeless[homeless[\"individuals\"] > 10000].sort_values(\"individuals\",ascending = True))"
   ]
  },
  {
   "cell_type": "markdown",
   "id": "c2108315-4cd4-47dc-813f-14c394542825",
   "metadata": {},
   "source": [
    "We can combine multiple logical operators and subset more efficently."
   ]
  },
  {
   "cell_type": "code",
   "execution_count": 50,
   "id": "7d5b1302-da4e-43ac-9a26-38b2b266510e",
   "metadata": {},
   "outputs": [
    {
     "data": {
      "text/html": [
       "<div>\n",
       "<style scoped>\n",
       "    .dataframe tbody tr th:only-of-type {\n",
       "        vertical-align: middle;\n",
       "    }\n",
       "\n",
       "    .dataframe tbody tr th {\n",
       "        vertical-align: top;\n",
       "    }\n",
       "\n",
       "    .dataframe thead th {\n",
       "        text-align: right;\n",
       "    }\n",
       "</style>\n",
       "<table border=\"1\" class=\"dataframe\">\n",
       "  <thead>\n",
       "    <tr style=\"text-align: right;\">\n",
       "      <th></th>\n",
       "      <th>region</th>\n",
       "      <th>state</th>\n",
       "      <th>individuals</th>\n",
       "      <th>family_members</th>\n",
       "      <th>state_pop</th>\n",
       "    </tr>\n",
       "  </thead>\n",
       "  <tbody>\n",
       "    <tr>\n",
       "      <th>1</th>\n",
       "      <td>Pacific</td>\n",
       "      <td>Alaska</td>\n",
       "      <td>1434.0</td>\n",
       "      <td>582.0</td>\n",
       "      <td>735139</td>\n",
       "    </tr>\n",
       "    <tr>\n",
       "      <th>11</th>\n",
       "      <td>Pacific</td>\n",
       "      <td>Hawaii</td>\n",
       "      <td>4131.0</td>\n",
       "      <td>2399.0</td>\n",
       "      <td>1420593</td>\n",
       "    </tr>\n",
       "  </tbody>\n",
       "</table>\n",
       "</div>"
      ],
      "text/plain": [
       "     region   state  individuals  family_members  state_pop\n",
       "1   Pacific  Alaska       1434.0           582.0     735139\n",
       "11  Pacific  Hawaii       4131.0          2399.0    1420593"
      ]
     },
     "execution_count": 50,
     "metadata": {},
     "output_type": "execute_result"
    }
   ],
   "source": [
    "pacif = homeless[\"region\"] == \"Pacific\"\n",
    "hawaii = homeless[\"individuals\"] < 10000\n",
    "homeless[pacif & hawaii]"
   ]
  },
  {
   "cell_type": "markdown",
   "id": "8c1dd46b-f436-41de-8f3b-db3a229b8195",
   "metadata": {},
   "source": [
    "## Subsetting using .isin()\n",
    "When we have more than one categorical variables to subset is much better to use the method .isin()."
   ]
  },
  {
   "cell_type": "code",
   "execution_count": 57,
   "id": "78e2edcc-70c9-4ce7-bfb3-b1778a1785b3",
   "metadata": {},
   "outputs": [
    {
     "data": {
      "text/html": [
       "<div>\n",
       "<style scoped>\n",
       "    .dataframe tbody tr th:only-of-type {\n",
       "        vertical-align: middle;\n",
       "    }\n",
       "\n",
       "    .dataframe tbody tr th {\n",
       "        vertical-align: top;\n",
       "    }\n",
       "\n",
       "    .dataframe thead th {\n",
       "        text-align: right;\n",
       "    }\n",
       "</style>\n",
       "<table border=\"1\" class=\"dataframe\">\n",
       "  <thead>\n",
       "    <tr style=\"text-align: right;\">\n",
       "      <th></th>\n",
       "      <th>region</th>\n",
       "      <th>state</th>\n",
       "      <th>individuals</th>\n",
       "      <th>family_members</th>\n",
       "      <th>state_pop</th>\n",
       "    </tr>\n",
       "  </thead>\n",
       "  <tbody>\n",
       "    <tr>\n",
       "      <th>1</th>\n",
       "      <td>Pacific</td>\n",
       "      <td>Alaska</td>\n",
       "      <td>1434.0</td>\n",
       "      <td>582.0</td>\n",
       "      <td>735139</td>\n",
       "    </tr>\n",
       "    <tr>\n",
       "      <th>37</th>\n",
       "      <td>Pacific</td>\n",
       "      <td>Oregon</td>\n",
       "      <td>11139.0</td>\n",
       "      <td>3337.0</td>\n",
       "      <td>4181886</td>\n",
       "    </tr>\n",
       "  </tbody>\n",
       "</table>\n",
       "</div>"
      ],
      "text/plain": [
       "     region   state  individuals  family_members  state_pop\n",
       "1   Pacific  Alaska       1434.0           582.0     735139\n",
       "37  Pacific  Oregon      11139.0          3337.0    4181886"
      ]
     },
     "execution_count": 57,
     "metadata": {},
     "output_type": "execute_result"
    }
   ],
   "source": [
    "homeless[homeless[\"state\"].isin([\"Alaska\", \"Oregon\"])]"
   ]
  },
  {
   "cell_type": "markdown",
   "id": "765954b8-a342-47c7-a083-43fdafd4b2b4",
   "metadata": {},
   "source": [
    "# Summary statistics"
   ]
  },
  {
   "cell_type": "code",
   "execution_count": 45,
   "id": "304c6c87-4a88-4bfd-a8d0-015233e144eb",
   "metadata": {},
   "outputs": [
    {
     "name": "stdout",
     "output_type": "stream",
     "text": [
      "2010-02-05\n",
      "2012-10-26\n"
     ]
    }
   ],
   "source": [
    "sales = pd.read_csv(\"sales_subset.csv\", index_col = 0)\n",
    "sales.columns = [\"store\", \"type\", \"dptmn\", \"date\", \"ws\",\n",
    "                 \"ih\", \"temp\", \"fuel\", \"unemp\"]\n",
    "print(sales[\"date\"].min())\n",
    "print(sales[\"date\"].max())"
   ]
  },
  {
   "cell_type": "markdown",
   "id": "7bcaf0f7-5f79-4bd8-8f8a-1eaa06b33f47",
   "metadata": {},
   "source": [
    "Using a custom function **aggregate()**"
   ]
  },
  {
   "cell_type": "code",
   "execution_count": 59,
   "id": "754dc43a-6b6d-448e-ba6c-4936c81944fb",
   "metadata": {},
   "outputs": [
    {
     "name": "stdout",
     "output_type": "stream",
     "text": [
      "             temp      fuel  unemp\n",
      "iqr     16.583333  0.073176  0.565\n",
      "median  16.966667  0.743381  8.099\n"
     ]
    }
   ],
   "source": [
    "# A custom IQR function\n",
    "def iqr(column):\n",
    "    return column.quantile(0.75) - column.quantile(0.25)\n",
    "\n",
    "# Print IQR of the temperature_c column\n",
    "print(sales[[\"temp\",\"fuel\",\"unemp\"]].agg([iqr, \"median\"]))"
   ]
  },
  {
   "cell_type": "markdown",
   "id": "b8dfebfb-c981-43e8-ac55-9b2aa99ffac2",
   "metadata": {},
   "source": [
    "Using accumulative funcions:"
   ]
  },
  {
   "cell_type": "code",
   "execution_count": 66,
   "id": "eda29270-4e50-4cf7-9d0c-3d060938b857",
   "metadata": {},
   "outputs": [
    {
     "name": "stdout",
     "output_type": "stream",
     "text": [
      "0     5.727778\n",
      "1    13.783333\n",
      "2    30.600000\n",
      "3    53.127778\n",
      "4    80.177778\n",
      "Name: temp, dtype: float64\n",
      "0    5.727778\n",
      "1    5.727778\n",
      "2    5.727778\n",
      "3    5.727778\n",
      "4    5.727778\n",
      "Name: temp, dtype: float64\n",
      "0     5.727778\n",
      "1     8.055556\n",
      "2    16.816667\n",
      "3    22.527778\n",
      "4    27.050000\n",
      "Name: temp, dtype: float64\n"
     ]
    }
   ],
   "source": [
    "print(sales[\"temp\"].cumsum()[0:5])\n",
    "print(sales[\"temp\"].cummin()[0:5])\n",
    "print(sales[\"temp\"].cummax()[0:5])"
   ]
  }
 ],
 "metadata": {
  "kernelspec": {
   "display_name": "Python 3 (ipykernel)",
   "language": "python",
   "name": "python3"
  },
  "language_info": {
   "codemirror_mode": {
    "name": "ipython",
    "version": 3
   },
   "file_extension": ".py",
   "mimetype": "text/x-python",
   "name": "python",
   "nbconvert_exporter": "python",
   "pygments_lexer": "ipython3",
   "version": "3.12.3"
  }
 },
 "nbformat": 4,
 "nbformat_minor": 5
}
