{
 "cells": [
  {
   "cell_type": "markdown",
   "metadata": {},
   "source": [
    "---\n",
    "title: Data Manipulation with Pandas\n",
    "date: \"2024-08-28\"\n",
    "author: \"Bryan Quispe\"\n",
    "lang: es\n",
    "execute:\n",
    "    warning: false\n",
    "    message: false\n",
    "format:\n",
    "  pdf:\n",
    "    number-sections: false\n",
    "    classoption: [onecolumn, portrait]\n",
    "    papersize: a4\n",
    "    geometry:\n",
    "      - top=2mm\n",
    "      - left=3mm\n",
    "      - right=3mm\n",
    "      - bottom=3mm\n",
    "---"
   ]
  },
  {
   "cell_type": "markdown",
   "metadata": {},
   "source": [
    "# Basics"
   ]
  }
 ],
 "metadata": {
  "language_info": {
   "name": "python"
  }
 },
 "nbformat": 4,
 "nbformat_minor": 2
}
